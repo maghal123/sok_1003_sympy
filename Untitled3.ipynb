{
 "cells": [
  {
   "cell_type": "code",
   "execution_count": 130,
   "id": "6c51883c-bf5f-41fa-ae2d-38968b3c21c6",
   "metadata": {},
   "outputs": [],
   "source": [
    "import sympy as sp\n",
    "from sympy.solvers import solve\n",
    "import math \n"
   ]
  },
  {
   "cell_type": "code",
   "execution_count": 131,
   "id": "6a19c91f-f2c3-4128-bb16-0ec85e394fb5",
   "metadata": {},
   "outputs": [
    {
     "data": {
      "text/plain": [
       "{x: -1, y: 2}"
      ]
     },
     "execution_count": 131,
     "metadata": {},
     "output_type": "execute_result"
    }
   ],
   "source": [
    "#Oppgave 15\n",
    "#1a\n",
    "x, y  = sp.symbols(\"x y\") \n",
    "unknown = [x, y] \n",
    "eq_a = [\n",
    "    sp.Eq(2*x+4*y,6),\n",
    "    sp.Eq(-2*x+y, 4)\n",
    "] \n",
    "sp.solve(eq_a, unknown) "
   ]
  },
  {
   "cell_type": "code",
   "execution_count": 132,
   "id": "2e552225-00de-4bac-95b9-2c8272f95fbe",
   "metadata": {},
   "outputs": [
    {
     "data": {
      "text/plain": [
       "[(-1, -1), (2, 5)]"
      ]
     },
     "execution_count": 132,
     "metadata": {},
     "output_type": "execute_result"
    }
   ],
   "source": [
    "#Oppgave 1b\n",
    "eq_a = [\n",
    "    sp.Eq(2*x-y,-1),\n",
    "    sp.Eq(x**2+x-y, 1)\n",
    "] \n",
    "sp.solve(eq_a, unknown) "
   ]
  },
  {
   "cell_type": "code",
   "execution_count": 133,
   "id": "a027ab0f-5a5c-4c35-bc38-a2c845383bc0",
   "metadata": {},
   "outputs": [
    {
     "data": {
      "text/plain": [
       "{x: 4, y: 0}"
      ]
     },
     "execution_count": 133,
     "metadata": {},
     "output_type": "execute_result"
    }
   ],
   "source": [
    "#Oppgave 2a\n",
    "eq_a = [\n",
    "    sp.Eq(3*x-12, -6*y),\n",
    "    sp.Eq(4*x-8*y, 16)\n",
    "] \n",
    "sp.solve(eq_a, unknown) "
   ]
  },
  {
   "cell_type": "code",
   "execution_count": 134,
   "id": "0bb9c7e4-94b1-4ade-83e1-cdeadbd116f4",
   "metadata": {},
   "outputs": [
    {
     "data": {
      "text/plain": [
       "[(-15/2, 31/4), (2, 3)]"
      ]
     },
     "execution_count": 134,
     "metadata": {},
     "output_type": "execute_result"
    }
   ],
   "source": [
    "#Oppgave 2b\n",
    "eq_a = [\n",
    "    sp.Eq(x**2+4*x-3, 3*y),\n",
    "    sp.Eq(8-x, 2*y)\n",
    "] \n",
    "sp.solve(eq_a, unknown) "
   ]
  },
  {
   "cell_type": "code",
   "execution_count": 135,
   "id": "6e1c4380-b367-4dee-ab24-1d9b67d5e6a1",
   "metadata": {},
   "outputs": [
    {
     "data": {
      "text/plain": [
       "{x: 2, y: 2}"
      ]
     },
     "execution_count": 135,
     "metadata": {},
     "output_type": "execute_result"
    }
   ],
   "source": [
    "#Oppgave 16\n",
    "#1a\n",
    "eq_a = [\n",
    "    sp.Eq(4*x+2*y,12),\n",
    "    sp.Eq(6*x-2*y,8)\n",
    "] \n",
    "sp.solve(eq_a, unknown)"
   ]
  },
  {
   "cell_type": "code",
   "execution_count": 136,
   "id": "4b057f28-608e-4d4b-b0ea-9e541d9e1d6c",
   "metadata": {},
   "outputs": [
    {
     "data": {
      "text/plain": [
       "[(0, -5), (12, 1)]"
      ]
     },
     "execution_count": 136,
     "metadata": {},
     "output_type": "execute_result"
    }
   ],
   "source": [
    "#Oppgave 1b\n",
    "eq_16_2 = [sp.Eq(2*x+pow(y,2), 25), \n",
    "          sp.Eq(x-2*y, 10)] \n",
    "sp.solve(eq_16_2, [x, y])"
   ]
  },
  {
   "cell_type": "code",
   "execution_count": 137,
   "id": "825bac9a-5575-40cd-80e4-412e8d059468",
   "metadata": {},
   "outputs": [
    {
     "data": {
      "text/plain": [
       "{x: 4, y: 2}"
      ]
     },
     "execution_count": 137,
     "metadata": {},
     "output_type": "execute_result"
    }
   ],
   "source": [
    "#Oppgave 2a\n",
    "eq_16_3 = [sp.Eq(4*x-4*y,8), \n",
    "          sp.Eq(9*x-5*y,26)] \n",
    "sp.solve(eq_16_3, [x, y])"
   ]
  },
  {
   "cell_type": "code",
   "execution_count": 138,
   "id": "21bda7e6-0330-4382-a7bb-400cd37d1f99",
   "metadata": {},
   "outputs": [
    {
     "data": {
      "text/plain": [
       "[(-9, -2*sqrt(3)), (-9, 2*sqrt(3)), (7, -2), (7, 2)]"
      ]
     },
     "execution_count": 138,
     "metadata": {},
     "output_type": "execute_result"
    }
   ],
   "source": [
    "#Oppgave 2b\n",
    "eq_16_4 = [sp.Eq(x+2*y**2, 15),\n",
    "          sp.Eq(x**2-4*y**2, 33)] \n",
    "sp.solve(eq_16_4, [x, y])"
   ]
  },
  {
   "cell_type": "code",
   "execution_count": 139,
   "id": "0e1f5ef6-2fab-44b8-a5b1-f6584075ddfb",
   "metadata": {},
   "outputs": [],
   "source": [
    "#Oppgave 17"
   ]
  },
  {
   "cell_type": "code",
   "execution_count": 140,
   "id": "daefa2ff-d08d-4d5a-b464-048a824cd223",
   "metadata": {},
   "outputs": [
    {
     "data": {
      "text/plain": [
       "[(0, -4), (0, 4), (15, -1), (15, 1)]"
      ]
     },
     "execution_count": 140,
     "metadata": {},
     "output_type": "execute_result"
    }
   ],
   "source": [
    "#Oppgave 1a\n",
    "equations = [sp.Eq(x*y**2-x, 0),\n",
    "             sp.Eq(x+y**2, 16)]\n",
    "sp.solve(equations, [x, y])"
   ]
  },
  {
   "cell_type": "code",
   "execution_count": 141,
   "id": "ef145456-4559-4794-896b-76f402393d16",
   "metadata": {},
   "outputs": [
    {
     "data": {
      "text/plain": [
       "[(-10, 0), (-6, -8), (-6, 8), (6, -8), (6, 8), (10, 0)]"
      ]
     },
     "execution_count": 141,
     "metadata": {},
     "output_type": "execute_result"
    }
   ],
   "source": [
    "#Oppgave 1b\n",
    "equations = [sp.Eq(x**2+y**2, 100),\n",
    "             sp.Eq(x**2*y-36*y, 0)]\n",
    "sp.solve(equations, [x, y])"
   ]
  },
  {
   "cell_type": "code",
   "execution_count": 142,
   "id": "9f7beb3f-8b1d-41b5-96b2-0098998a3a00",
   "metadata": {},
   "outputs": [
    {
     "data": {
      "text/plain": [
       "[(-3, -7), (-3, 7), (0, -sqrt(58)), (0, sqrt(58)), (3, -7), (3, 7)]"
      ]
     },
     "execution_count": 142,
     "metadata": {},
     "output_type": "execute_result"
    }
   ],
   "source": [
    "#Oppgave 2a\n",
    "equations = [sp.Eq(x*y**2-49*x, 0),\n",
    "             sp.Eq(x**2+y**2, 58)]\n",
    "sp.solve(equations, [x, y])"
   ]
  },
  {
   "cell_type": "code",
   "execution_count": 143,
   "id": "9757bc16-72df-4c4b-9936-075300ac0da0",
   "metadata": {},
   "outputs": [
    {
     "data": {
      "text/plain": [
       "[(-1.11803398874989, 0.0),\n",
       " (-0.500000000000000, -1.00000000000000),\n",
       " (-0.500000000000000, 1.00000000000000),\n",
       " (1.11803398874989, 0.0)]"
      ]
     },
     "execution_count": 143,
     "metadata": {},
     "output_type": "execute_result"
    }
   ],
   "source": [
    "#Oppgave 2b\n",
    "equations = [sp.Eq(x**2+y**2, 1.25),\n",
    "             sp.Eq(2*(x*y)+y, 0)]\n",
    "sp.solve(equations, [x, y])"
   ]
  },
  {
   "cell_type": "code",
   "execution_count": 144,
   "id": "44fd5187-3ad9-4f92-95b1-809092556c2f",
   "metadata": {},
   "outputs": [
    {
     "data": {
      "text/latex": [
       "$\\displaystyle x^{4}$"
      ],
      "text/plain": [
       "x**4"
      ]
     },
     "execution_count": 144,
     "metadata": {},
     "output_type": "execute_result"
    }
   ],
   "source": [
    "#oppgave 20\n",
    "#1a\n",
    "sp.root(x**12, 3) \n",
    "x = sp.symbols(\"x\", positive=True) \n",
    "sp.root(x**12, 3)"
   ]
  },
  {
   "cell_type": "code",
   "execution_count": 145,
   "id": "f279ba82-27e2-42b8-9783-24acfc1e78f2",
   "metadata": {},
   "outputs": [
    {
     "data": {
      "text/latex": [
       "$\\displaystyle \\sqrt{x^{2} + 4}$"
      ],
      "text/plain": [
       "sqrt(x**2 + 4)"
      ]
     },
     "execution_count": 145,
     "metadata": {},
     "output_type": "execute_result"
    }
   ],
   "source": [
    "\n",
    "#Oppgave 1b\n",
    "x = sp.symbols(\"x\")\n",
    "sp.root((x**2+4)**4,8)\n",
    "x = sp.symbols(\"x\", positive=True)\n",
    "sp.root((x**2+4)**4,8)"
   ]
  },
  {
   "cell_type": "code",
   "execution_count": 146,
   "id": "49137687-3785-4710-8d81-58482238d6bc",
   "metadata": {},
   "outputs": [
    {
     "data": {
      "text/plain": [
       "[]"
      ]
     },
     "execution_count": 146,
     "metadata": {},
     "output_type": "execute_result"
    }
   ],
   "source": [
    "\n",
    "#Oppgave 1c\n",
    "sp.solve(sp.sqrt(x)*sp.root(x,3))"
   ]
  },
  {
   "cell_type": "code",
   "execution_count": 147,
   "id": "922d7a0f-e9d2-49af-969f-b228b6d5f3ce",
   "metadata": {},
   "outputs": [
    {
     "data": {
      "text/latex": [
       "$\\displaystyle \\left(x + 2\\right)^{0.125}$"
      ],
      "text/plain": [
       "(x + 2)**0.125"
      ]
     },
     "execution_count": 147,
     "metadata": {},
     "output_type": "execute_result"
    }
   ],
   "source": [
    "#Oppgave d\n",
    "sp.root((x+2)**0.5, 4)\n",
    "x = sp.symbols(\"x\", positive=True) \n",
    "sp.root((x+2)**0.5, 4)"
   ]
  },
  {
   "cell_type": "code",
   "execution_count": 148,
   "id": "90cb9fd8-f0fc-458a-9ea1-060c9cd2db84",
   "metadata": {},
   "outputs": [
    {
     "data": {
      "text/latex": [
       "$\\displaystyle 9 x^{8}$"
      ],
      "text/plain": [
       "9*x**8"
      ]
     },
     "execution_count": 148,
     "metadata": {},
     "output_type": "execute_result"
    }
   ],
   "source": [
    "\n",
    "#Oppgave 1e\n",
    "sp.diff(x**4 * x**5)"
   ]
  },
  {
   "cell_type": "code",
   "execution_count": 149,
   "id": "f9297e8c-fdd4-4364-8613-c9f8916bf990",
   "metadata": {},
   "outputs": [
    {
     "data": {
      "text/latex": [
       "$\\displaystyle \\frac{3 \\sqrt{x}}{2}$"
      ],
      "text/plain": [
       "3*sqrt(x)/2"
      ]
     },
     "execution_count": 149,
     "metadata": {},
     "output_type": "execute_result"
    }
   ],
   "source": [
    "\n",
    "#Oppgave 1f\n",
    "sp.diff(x * sp.sqrt(x))"
   ]
  },
  {
   "cell_type": "code",
   "execution_count": 150,
   "id": "56a5b4fb-612d-469b-a11a-4c7b3946f03a",
   "metadata": {},
   "outputs": [
    {
     "data": {
      "text/latex": [
       "$\\displaystyle \\frac{6 - x^{2}}{x^{4}}$"
      ],
      "text/plain": [
       "(6 - x**2)/x**4"
      ]
     },
     "execution_count": 150,
     "metadata": {},
     "output_type": "execute_result"
    }
   ],
   "source": [
    "\n",
    "#Oppgave 1h\n",
    "solved = sp.diff((x**2-2)/(x**3), x) \n",
    "sp.simplify(solved)"
   ]
  },
  {
   "cell_type": "code",
   "execution_count": 151,
   "id": "fa6e8dcc-a541-4445-9f80-e98ec1308f0d",
   "metadata": {},
   "outputs": [
    {
     "data": {
      "text/latex": [
       "$\\displaystyle \\frac{13 x^{\\frac{11}{2}}}{2}$"
      ],
      "text/plain": [
       "13*x**(11/2)/2"
      ]
     },
     "execution_count": 151,
     "metadata": {},
     "output_type": "execute_result"
    }
   ],
   "source": [
    "#Oppgave 1i\n",
    "sp.diff(sp.sqrt(x)*x**6)"
   ]
  },
  {
   "cell_type": "code",
   "execution_count": 152,
   "id": "a94a62b2-f35a-4321-b823-a051eb6cfeff",
   "metadata": {},
   "outputs": [
    {
     "data": {
      "text/latex": [
       "$\\displaystyle 3 x^{2} + 1$"
      ],
      "text/plain": [
       "3*x**2 + 1"
      ]
     },
     "execution_count": 152,
     "metadata": {},
     "output_type": "execute_result"
    }
   ],
   "source": [
    "#Oppgave 1J\n",
    "sp.diff(x*(x**2+1))"
   ]
  },
  {
   "cell_type": "code",
   "execution_count": 153,
   "id": "0f746c92-c8ff-4d2f-9700-0646eff6b5b2",
   "metadata": {},
   "outputs": [
    {
     "data": {
      "text/latex": [
       "$\\displaystyle \\frac{x \\left(- x^{3} - 12 x - 2\\right)}{x^{6} - 2 x^{3} + 1}$"
      ],
      "text/plain": [
       "x*(-x**3 - 12*x - 2)/(x**6 - 2*x**3 + 1)"
      ]
     },
     "execution_count": 153,
     "metadata": {},
     "output_type": "execute_result"
    }
   ],
   "source": [
    "#Oppgave 1K\n",
    "solved = sp.diff((x**2+4)/(x**3-1)) \n",
    "sp.simplify(solved)"
   ]
  },
  {
   "cell_type": "code",
   "execution_count": 154,
   "id": "ae19853a-09a5-43f1-8a74-76d1bdb310fe",
   "metadata": {},
   "outputs": [
    {
     "data": {
      "text/latex": [
       "$\\displaystyle \\frac{2}{\\left(x + 2\\right)^{2}}$"
      ],
      "text/plain": [
       "2/(x + 2)**2"
      ]
     },
     "execution_count": 154,
     "metadata": {},
     "output_type": "execute_result"
    }
   ],
   "source": [
    "#Oppgave 1L\n",
    "solved = sp.diff((x**2)/(x**2+2*x))\n",
    "sp.simplify(solved)"
   ]
  },
  {
   "cell_type": "code",
   "execution_count": 155,
   "id": "93d95354-e255-495b-9344-130c022df41c",
   "metadata": {},
   "outputs": [
    {
     "data": {
      "text/latex": [
       "$\\displaystyle \\frac{x^{2} - 4 x - 10}{x^{2} - 4 x + 4}$"
      ],
      "text/plain": [
       "(x**2 - 4*x - 10)/(x**2 - 4*x + 4)"
      ]
     },
     "execution_count": 155,
     "metadata": {},
     "output_type": "execute_result"
    }
   ],
   "source": [
    "#Oppgave 1m\n",
    "solved = sp.diff((x**2+4*x +2)/(x-2), x)\n",
    "sp.simplify(solved)"
   ]
  },
  {
   "cell_type": "code",
   "execution_count": 156,
   "id": "2bda63b3-61fe-4a91-81a1-cd240e4517bd",
   "metadata": {},
   "outputs": [
    {
     "data": {
      "text/latex": [
       "$\\displaystyle \\frac{x^{4} - x^{2} + 2}{x^{4} - 2 x^{2} + 1}$"
      ],
      "text/plain": [
       "(x**4 - x**2 + 2)/(x**4 - 2*x**2 + 1)"
      ]
     },
     "execution_count": 156,
     "metadata": {},
     "output_type": "execute_result"
    }
   ],
   "source": [
    "#Oppgave 2a\n",
    "solved = sp.diff((x**3-2*x)/(x**2-1))\n",
    "sp.simplify(solved)"
   ]
  },
  {
   "cell_type": "code",
   "execution_count": 157,
   "id": "ac5d854d-2195-4a5f-8036-2cad0bd603dc",
   "metadata": {},
   "outputs": [
    {
     "data": {
      "text/latex": [
       "$\\displaystyle 4 x^{3}$"
      ],
      "text/plain": [
       "4*x**3"
      ]
     },
     "execution_count": 157,
     "metadata": {},
     "output_type": "execute_result"
    }
   ],
   "source": [
    "#Oppgave 2b\n",
    "solved = sp.diff((x**2+1)*(x**2-1))\n",
    "sp.simplify(solved)"
   ]
  },
  {
   "cell_type": "code",
   "execution_count": 158,
   "id": "58c5c0b5-e766-489a-92df-3e12b9d62cbb",
   "metadata": {},
   "outputs": [
    {
     "data": {
      "text/latex": [
       "$\\displaystyle \\frac{3 \\left(- 2 x^{3} + 4 x^{2} + 7\\right)}{x^{6} + 14 x^{3} + 49}$"
      ],
      "text/plain": [
       "3*(-2*x**3 + 4*x**2 + 7)/(x**6 + 14*x**3 + 49)"
      ]
     },
     "execution_count": 158,
     "metadata": {},
     "output_type": "execute_result"
    }
   ],
   "source": [
    "#Oppgave 2c\n",
    "solved = sp.diff((3*x-4)/(x**3+7))\n",
    "sp.simplify(solved)"
   ]
  },
  {
   "cell_type": "code",
   "execution_count": 159,
   "id": "c0b73aa9-9f76-4486-9cd9-eb8781709c17",
   "metadata": {},
   "outputs": [
    {
     "data": {
      "text/latex": [
       "$\\displaystyle \\left(15 x^{2} + 30\\right) \\left(x^{3} + 6 x\\right)^{4}$"
      ],
      "text/plain": [
       "(15*x**2 + 30)*(x**3 + 6*x)**4"
      ]
     },
     "execution_count": 159,
     "metadata": {},
     "output_type": "execute_result"
    }
   ],
   "source": [
    "#Oppgave 21\n",
    "#1a\n",
    "unknown = [x, y]\n",
    "sp.diff(((x**3+x*6)**5), x)"
   ]
  },
  {
   "cell_type": "code",
   "execution_count": 160,
   "id": "866e7edf-038b-4760-b399-dfb870bb12c8",
   "metadata": {},
   "outputs": [
    {
     "data": {
      "text/latex": [
       "$\\displaystyle \\frac{2 x}{\\sqrt{2 x^{2} + 5}}$"
      ],
      "text/plain": [
       "2*x/sqrt(2*x**2 + 5)"
      ]
     },
     "execution_count": 160,
     "metadata": {},
     "output_type": "execute_result"
    }
   ],
   "source": [
    "#Oppgave 1b\n",
    "sp.diff(sp.sqrt(2*x**2 +5), x)"
   ]
  },
  {
   "cell_type": "code",
   "execution_count": 161,
   "id": "1ed0909f-5739-48f3-8ea5-5b2458df7d06",
   "metadata": {},
   "outputs": [
    {
     "data": {
      "text/latex": [
       "$\\displaystyle - \\frac{128 x^{5}}{\\left(x^{2} + 3\\right)^{5}} + \\frac{64 x^{3}}{\\left(x^{2} + 3\\right)^{4}}$"
      ],
      "text/plain": [
       "-128*x**5/(x**2 + 3)**5 + 64*x**3/(x**2 + 3)**4"
      ]
     },
     "execution_count": 161,
     "metadata": {},
     "output_type": "execute_result"
    }
   ],
   "source": [
    "#Oppgave 1c\n",
    "sp.diff(((2*x/(x**2+3))**4), x)"
   ]
  },
  {
   "cell_type": "code",
   "execution_count": 162,
   "id": "4aa4aa8e-dada-4be1-8c54-83fa804b37dd",
   "metadata": {},
   "outputs": [
    {
     "data": {
      "text/latex": [
       "$\\displaystyle 96 x^{3} \\left(16 x^{4} + 9\\right)^{2}$"
      ],
      "text/plain": [
       "96*x**3*(16*x**4 + 9)**2"
      ]
     },
     "execution_count": 162,
     "metadata": {},
     "output_type": "execute_result"
    }
   ],
   "source": [
    "#Oppgave 1d\n",
    "sp.diff(((2*x)**4+9)**3/2, x)"
   ]
  },
  {
   "cell_type": "code",
   "execution_count": 163,
   "id": "8259b547-d957-4675-91d7-55caaa3c5cf8",
   "metadata": {},
   "outputs": [
    {
     "data": {
      "text/latex": [
       "$\\displaystyle - \\frac{x}{\\left(x^{2} + 1\\right)^{\\frac{3}{2}}}$"
      ],
      "text/plain": [
       "-x/(x**2 + 1)**(3/2)"
      ]
     },
     "execution_count": 163,
     "metadata": {},
     "output_type": "execute_result"
    }
   ],
   "source": [
    "#Oppgave 1e\n",
    "sp.diff((1)/sp.sqrt(1+x**2) ,x)"
   ]
  },
  {
   "cell_type": "code",
   "execution_count": 164,
   "id": "1bb5c294-9c64-4999-ac27-c6431f6be409",
   "metadata": {},
   "outputs": [
    {
     "data": {
      "text/latex": [
       "$\\displaystyle x^{2} \\cdot \\left(6 x + 6\\right) \\left(x^{2} + 2 x\\right)^{2} + 2 x \\left(x^{2} + 2 x\\right)^{3}$"
      ],
      "text/plain": [
       "x**2*(6*x + 6)*(x**2 + 2*x)**2 + 2*x*(x**2 + 2*x)**3"
      ]
     },
     "execution_count": 164,
     "metadata": {},
     "output_type": "execute_result"
    }
   ],
   "source": [
    "#Oppgave 1f\n",
    "sp.diff(x**2*(x**2+2*x)**3, x)"
   ]
  },
  {
   "cell_type": "code",
   "execution_count": 165,
   "id": "14271b59-76d0-427f-a15e-202a1e533bbc",
   "metadata": {},
   "outputs": [
    {
     "data": {
      "text/latex": [
       "$\\displaystyle \\frac{x^{2} \\left(x - 1\\right)}{\\sqrt{x^{2} - 2 x}} + 2 x \\sqrt{x^{2} - 2 x}$"
      ],
      "text/plain": [
       "x**2*(x - 1)/sqrt(x**2 - 2*x) + 2*x*sqrt(x**2 - 2*x)"
      ]
     },
     "execution_count": 165,
     "metadata": {},
     "output_type": "execute_result"
    }
   ],
   "source": [
    "#Oppgave 1g\n",
    "sp.diff(x**2*sp.sqrt(x**2-2*x), x)"
   ]
  },
  {
   "cell_type": "code",
   "execution_count": 166,
   "id": "f246c180-398f-4858-b3c6-5b4a190ce533",
   "metadata": {},
   "outputs": [
    {
     "data": {
      "text/latex": [
       "$\\displaystyle \\frac{x^{2} \\left(- 6 x - 3\\right)}{\\left(x^{2} + x\\right)^{4}} + \\frac{2 x}{\\left(x^{2} + x\\right)^{3}}$"
      ],
      "text/plain": [
       "x**2*(-6*x - 3)/(x**2 + x)**4 + 2*x/(x**2 + x)**3"
      ]
     },
     "execution_count": 166,
     "metadata": {},
     "output_type": "execute_result"
    }
   ],
   "source": [
    "#Oppgave 1h\n",
    "sp.diff(x**2/(x**2+x)**3, x)"
   ]
  },
  {
   "cell_type": "code",
   "execution_count": 167,
   "id": "8d49a410-c9bc-4f56-bcb3-9dbb0b362d44",
   "metadata": {},
   "outputs": [
    {
     "data": {
      "text/latex": [
       "$\\displaystyle 9 x^{2} \\left(x^{2} + 1\\right)^{2} \\left(x^{3} + 1\\right)^{2} + 4 x \\left(x^{2} + 1\\right) \\left(x^{3} + 1\\right)^{3}$"
      ],
      "text/plain": [
       "9*x**2*(x**2 + 1)**2*(x**3 + 1)**2 + 4*x*(x**2 + 1)*(x**3 + 1)**3"
      ]
     },
     "execution_count": 167,
     "metadata": {},
     "output_type": "execute_result"
    }
   ],
   "source": [
    "#Oppgave 1i\n",
    "sp.diff((x**2+1)**2*(x**3+1)**3, x)"
   ]
  },
  {
   "cell_type": "code",
   "execution_count": 168,
   "id": "70516040-b878-4018-ac18-c7207605fc8c",
   "metadata": {},
   "outputs": [
    {
     "data": {
      "text/latex": [
       "$\\displaystyle \\left(12 x + 4\\right) \\left(3 x^{2} + 2 x\\right)$"
      ],
      "text/plain": [
       "(12*x + 4)*(3*x**2 + 2*x)"
      ]
     },
     "execution_count": 168,
     "metadata": {},
     "output_type": "execute_result"
    }
   ],
   "source": [
    "#Oppgave 2a\n",
    "sp.diff(sp.sqrt((3*x**2+2*x)**4), x)"
   ]
  },
  {
   "cell_type": "code",
   "execution_count": 169,
   "id": "ba465ae0-3cf9-4537-9615-6c7025382e72",
   "metadata": {},
   "outputs": [
    {
     "data": {
      "text/latex": [
       "$\\displaystyle 15 x^{2} \\left(x^{2} + 3\\right)^{4} \\left(x^{3} + 3\\right)^{4} + 8 x \\left(x^{2} + 3\\right)^{3} \\left(x^{3} + 3\\right)^{5}$"
      ],
      "text/plain": [
       "15*x**2*(x**2 + 3)**4*(x**3 + 3)**4 + 8*x*(x**2 + 3)**3*(x**3 + 3)**5"
      ]
     },
     "execution_count": 169,
     "metadata": {},
     "output_type": "execute_result"
    }
   ],
   "source": [
    "#Oppgave 2b\n",
    "sp.diff((x**3+3)**5*(x**2+3)**4, x)"
   ]
  },
  {
   "cell_type": "code",
   "execution_count": 170,
   "id": "d500a2ea-6f38-4737-8513-89fa51931bad",
   "metadata": {},
   "outputs": [
    {
     "data": {
      "text/latex": [
       "$\\displaystyle 5 x^{4}$"
      ],
      "text/plain": [
       "5*x**4"
      ]
     },
     "execution_count": 170,
     "metadata": {},
     "output_type": "execute_result"
    }
   ],
   "source": [
    "#Oppgave 19\n",
    "#1a\n",
    "def d19(x):\n",
    "    return x**5\n",
    "sp.diff(d19(x))"
   ]
  },
  {
   "cell_type": "code",
   "execution_count": 171,
   "id": "5cdcd960-5b16-4323-98b8-4476737db268",
   "metadata": {},
   "outputs": [
    {
     "data": {
      "text/latex": [
       "$\\displaystyle 1$"
      ],
      "text/plain": [
       "1"
      ]
     },
     "execution_count": 171,
     "metadata": {},
     "output_type": "execute_result"
    }
   ],
   "source": [
    "#Oppgave 1b\n",
    "def d19(x):\n",
    "    return x + (2)\n",
    "sp.diff(d19(x), x)"
   ]
  },
  {
   "cell_type": "code",
   "execution_count": 172,
   "id": "094a7c97-fd60-4c8c-82ca-2e91b50ef876",
   "metadata": {},
   "outputs": [
    {
     "data": {
      "text/latex": [
       "$\\displaystyle 3 x^{2} + 8 x$"
      ],
      "text/plain": [
       "3*x**2 + 8*x"
      ]
     },
     "execution_count": 172,
     "metadata": {},
     "output_type": "execute_result"
    }
   ],
   "source": [
    "\n",
    "#Oppgave 1c\n",
    "def d19(x):\n",
    "    return x**3 + (4*x**2)\n",
    "sp.diff(d19(x), x)"
   ]
  },
  {
   "cell_type": "code",
   "execution_count": 173,
   "id": "5bb498cd-978c-4a3d-b405-3fdfad03768d",
   "metadata": {},
   "outputs": [
    {
     "data": {
      "text/latex": [
       "$\\displaystyle 6 x^{2}$"
      ],
      "text/plain": [
       "6*x**2"
      ]
     },
     "execution_count": 173,
     "metadata": {},
     "output_type": "execute_result"
    }
   ],
   "source": [
    "#Oppgave 1d\n",
    "def d19(x):\n",
    "    return 2*x**3 + sp.sqrt(36)\n",
    "sp.diff(d19(x), x)"
   ]
  },
  {
   "cell_type": "code",
   "execution_count": 174,
   "id": "8dcca60c-b512-4029-93f2-d6753adeaedd",
   "metadata": {},
   "outputs": [
    {
     "data": {
      "text/latex": [
       "$\\displaystyle \\frac{1}{2 \\sqrt{x}}$"
      ],
      "text/plain": [
       "1/(2*sqrt(x))"
      ]
     },
     "execution_count": 174,
     "metadata": {},
     "output_type": "execute_result"
    }
   ],
   "source": [
    "#Oppgave 1e\n",
    "def d19(x):\n",
    "    return sp.sqrt(x) + (5**2)\n",
    "sp.diff(d19(x), x)"
   ]
  },
  {
   "cell_type": "code",
   "execution_count": 175,
   "id": "c14aedec-0cce-4638-9f94-742d255812e5",
   "metadata": {},
   "outputs": [
    {
     "data": {
      "text/latex": [
       "$\\displaystyle 3 x^{2} - \\frac{1}{x^{2}}$"
      ],
      "text/plain": [
       "3*x**2 - 1/x**2"
      ]
     },
     "execution_count": 175,
     "metadata": {},
     "output_type": "execute_result"
    }
   ],
   "source": [
    "#Oppgave 1f\n",
    "def d19(x):\n",
    "    return x**3 + (1/x) \n",
    "sp.diff(d19(x), x)"
   ]
  },
  {
   "cell_type": "code",
   "execution_count": 176,
   "id": "6d981b0f-c007-450f-9d9a-ac64f2dd9f70",
   "metadata": {},
   "outputs": [
    {
     "data": {
      "text/latex": [
       "$\\displaystyle 3 x^{2} - \\frac{3 x}{2}$"
      ],
      "text/plain": [
       "3*x**2 - 3*x/2"
      ]
     },
     "execution_count": 176,
     "metadata": {},
     "output_type": "execute_result"
    }
   ],
   "source": [
    "#Oppgave 1g\n",
    "def d19(x):\n",
    "    return x**3 - x**2 + (1*x/4*x) \n",
    "sp.diff(d19(x), x)"
   ]
  },
  {
   "cell_type": "code",
   "execution_count": 177,
   "id": "e314fdf1-c0cf-43f9-a656-41638e86f85b",
   "metadata": {},
   "outputs": [
    {
     "data": {
      "text/latex": [
       "$\\displaystyle 36 x^{5} - \\frac{1}{x^{2}}$"
      ],
      "text/plain": [
       "36*x**5 - 1/x**2"
      ]
     },
     "execution_count": 177,
     "metadata": {},
     "output_type": "execute_result"
    }
   ],
   "source": [
    "#Oppgave 2a\n",
    "sp.diff(1/x + (6*x**6), x)"
   ]
  },
  {
   "cell_type": "code",
   "execution_count": 178,
   "id": "e4010cd8-3776-4d65-9483-1a65d25d0595",
   "metadata": {},
   "outputs": [
    {
     "data": {
      "text/latex": [
       "$\\displaystyle 0.6 x^{2} - 1$"
      ],
      "text/plain": [
       "0.6*x**2 - 1"
      ]
     },
     "execution_count": 178,
     "metadata": {},
     "output_type": "execute_result"
    }
   ],
   "source": [
    "#Oppgave 2b\n",
    "def d19(x):\n",
    "    return -x + (1/5*x**3)\n",
    "sp.diff(d19(x), (x))"
   ]
  },
  {
   "cell_type": "code",
   "execution_count": 179,
   "id": "08764da4-4aab-4fd2-bda1-478409bb5e61",
   "metadata": {},
   "outputs": [
    {
     "data": {
      "text/latex": [
       "$\\displaystyle 2 x + 3$"
      ],
      "text/plain": [
       "2*x + 3"
      ]
     },
     "execution_count": 179,
     "metadata": {},
     "output_type": "execute_result"
    }
   ],
   "source": [
    "#Oppgave 2c\n",
    "sp.diff(x+(x**2 + 2*x - 3), x)"
   ]
  },
  {
   "cell_type": "code",
   "execution_count": 180,
   "id": "d188c3c8-5ba4-43aa-b17d-3f31084bead6",
   "metadata": {},
   "outputs": [
    {
     "data": {
      "text/latex": [
       "$\\displaystyle \\frac{1}{x}$"
      ],
      "text/plain": [
       "1/x"
      ]
     },
     "execution_count": 180,
     "metadata": {},
     "output_type": "execute_result"
    }
   ],
   "source": [
    "#Oppgave 1a\n",
    "sp.diff(sp.log(5*x))"
   ]
  },
  {
   "cell_type": "code",
   "execution_count": 181,
   "id": "e851b0dc-c054-40c7-821d-6731a8abd161",
   "metadata": {},
   "outputs": [
    {
     "data": {
      "text/latex": [
       "$\\displaystyle -2.0$"
      ],
      "text/plain": [
       "-2.00000000000000"
      ]
     },
     "execution_count": 181,
     "metadata": {},
     "output_type": "execute_result"
    }
   ],
   "source": [
    "#Oppgave 1b\n",
    "sp.diff(sp.log(math.e**(-2*x)))"
   ]
  },
  {
   "cell_type": "code",
   "execution_count": 182,
   "id": "8101498f-9442-4c46-a3a8-90e7a3bcbd63",
   "metadata": {},
   "outputs": [
    {
     "data": {
      "text/latex": [
       "$\\displaystyle \\frac{1}{x}$"
      ],
      "text/plain": [
       "1/x"
      ]
     },
     "execution_count": 182,
     "metadata": {},
     "output_type": "execute_result"
    }
   ],
   "source": [
    "#Oppgave 1c\n",
    "\n",
    "sp.diff(sp.log(12*x)-3)"
   ]
  },
  {
   "cell_type": "code",
   "execution_count": 183,
   "id": "d2bc2d66-c391-4e73-a6eb-cef6cf6dbddf",
   "metadata": {},
   "outputs": [
    {
     "data": {
      "text/latex": [
       "$\\displaystyle 2^{x} e^{2^{x}} \\log{\\left(2 \\right)}$"
      ],
      "text/plain": [
       "2**x*exp(2**x)*log(2)"
      ]
     },
     "execution_count": 183,
     "metadata": {},
     "output_type": "execute_result"
    }
   ],
   "source": [
    "#Oppgave 1d\n",
    "sp.diff(sp.exp(2**x))"
   ]
  },
  {
   "cell_type": "code",
   "execution_count": 184,
   "id": "e92ca494-8902-4243-9584-0496c2fffe71",
   "metadata": {},
   "outputs": [
    {
     "data": {
      "text/latex": [
       "$\\displaystyle 3.0 \\cdot 2.71828182845905^{- 3 x - 5} \\cdot 2.71828182845905^{3 x + 5}$"
      ],
      "text/plain": [
       "3.0*2.71828182845905**(-3*x - 5)*2.71828182845905**(3*x + 5)"
      ]
     },
     "execution_count": 184,
     "metadata": {},
     "output_type": "execute_result"
    }
   ],
   "source": [
    "#Oppgave 1e\n",
    "sp.diff(sp.log(math.e**(3*x+5)))"
   ]
  },
  {
   "cell_type": "code",
   "execution_count": 185,
   "id": "c3e6c54d-3a7b-4bc7-b458-f874733387fa",
   "metadata": {},
   "outputs": [
    {
     "data": {
      "text/latex": [
       "$\\displaystyle \\frac{5 x^{4}}{x^{5} + 1}$"
      ],
      "text/plain": [
       "5*x**4/(x**5 + 1)"
      ]
     },
     "execution_count": 185,
     "metadata": {},
     "output_type": "execute_result"
    }
   ],
   "source": [
    "#Oppgave 1f\n",
    "sp.diff(sp.log(x**5+1))"
   ]
  },
  {
   "cell_type": "code",
   "execution_count": 186,
   "id": "61fc854d-f868-4a8f-9b65-c80e398ac2a4",
   "metadata": {},
   "outputs": [
    {
     "data": {
      "text/latex": [
       "$\\displaystyle 2.71828182845905^{- 4 x^{2} - 8 x} 2.71828182845905^{4 x^{2} + 8 x} \\left(8.0 x + 8.0\\right)$"
      ],
      "text/plain": [
       "2.71828182845905**(-4*x**2 - 8*x)*2.71828182845905**(4*x**2 + 8*x)*(8.0*x + 8.0)"
      ]
     },
     "execution_count": 186,
     "metadata": {},
     "output_type": "execute_result"
    }
   ],
   "source": [
    "#Oppgave 1g\n",
    "sp.diff(sp.log(math.e**(4*x**2+8*x)))"
   ]
  },
  {
   "cell_type": "code",
   "execution_count": 187,
   "id": "00b92b9b-7f74-4b59-a603-99c8980e2afd",
   "metadata": {},
   "outputs": [
    {
     "data": {
      "text/latex": [
       "$\\displaystyle - \\frac{1}{x}$"
      ],
      "text/plain": [
       "-1/x"
      ]
     },
     "execution_count": 187,
     "metadata": {},
     "output_type": "execute_result"
    }
   ],
   "source": [
    "#Oppgave 1h\n",
    "sp.diff(sp.log(1/x))"
   ]
  },
  {
   "cell_type": "code",
   "execution_count": 188,
   "id": "f235a0b0-8bc1-4598-87bf-923a2e69dd43",
   "metadata": {},
   "outputs": [
    {
     "data": {
      "text/latex": [
       "$\\displaystyle 163.794450099433 + \\frac{6}{x}$"
      ],
      "text/plain": [
       "163.794450099433 + 6/x"
      ]
     },
     "execution_count": 188,
     "metadata": {},
     "output_type": "execute_result"
    }
   ],
   "source": [
    "#Oppgave 1i\n",
    "sp.diff(6*sp.log(x)+3*math.e**4*x)"
   ]
  },
  {
   "cell_type": "code",
   "execution_count": 189,
   "id": "3fe50115-ddf7-496d-8e98-286f6ec2f6ab",
   "metadata": {},
   "outputs": [
    {
     "data": {
      "text/latex": [
       "$\\displaystyle - 1.0 \\cdot 2.71828182845905^{- x} x + 2.71828182845905^{- x}$"
      ],
      "text/plain": [
       "-1.0*x/2.71828182845905**x + 2.71828182845905**(-x)"
      ]
     },
     "execution_count": 189,
     "metadata": {},
     "output_type": "execute_result"
    }
   ],
   "source": [
    "#Oppgave 1j\n",
    "sp.diff(x*math.e**-x)"
   ]
  },
  {
   "cell_type": "code",
   "execution_count": 190,
   "id": "880f908d-6c6b-4c64-87f0-7c087ffade1d",
   "metadata": {},
   "outputs": [
    {
     "data": {
      "text/latex": [
       "$\\displaystyle \\frac{2 x^{3}}{x^{2} + 2} + 2 x \\log{\\left(x^{2} + 2 \\right)}$"
      ],
      "text/plain": [
       "2*x**3/(x**2 + 2) + 2*x*log(x**2 + 2)"
      ]
     },
     "execution_count": 190,
     "metadata": {},
     "output_type": "execute_result"
    }
   ],
   "source": [
    "#Oppgave 1k\n",
    "sp.diff(x**2*sp.log(x**2+2))"
   ]
  },
  {
   "cell_type": "code",
   "execution_count": 191,
   "id": "321ecec9-e08b-4e2e-ae0b-a0fe15f171dc",
   "metadata": {},
   "outputs": [
    {
     "data": {
      "text/latex": [
       "$\\displaystyle 3 x^{2} + 7.38905609893065$"
      ],
      "text/plain": [
       "3*x**2 + 7.38905609893065"
      ]
     },
     "execution_count": 191,
     "metadata": {},
     "output_type": "execute_result"
    }
   ],
   "source": [
    "#Oppgave 2a\n",
    "sp.diff(x**3+math.e**2*x)"
   ]
  },
  {
   "cell_type": "code",
   "execution_count": 192,
   "id": "843d080b-b067-471c-8dee-02acfd5553fe",
   "metadata": {},
   "outputs": [
    {
     "data": {
      "text/latex": [
       "$\\displaystyle \\frac{\\left(x^{2} + 1\\right) \\left(- \\frac{2 x \\left(x^{2} - 1\\right)}{\\left(x^{2} + 1\\right)^{2}} + \\frac{2 x}{x^{2} + 1}\\right)}{x^{2} - 1}$"
      ],
      "text/plain": [
       "(x**2 + 1)*(-2*x*(x**2 - 1)/(x**2 + 1)**2 + 2*x/(x**2 + 1))/(x**2 - 1)"
      ]
     },
     "execution_count": 192,
     "metadata": {},
     "output_type": "execute_result"
    }
   ],
   "source": [
    "#Oppgave 2b\n",
    "sp.diff(sp.log((x**2-1)/(x**2+1)))"
   ]
  },
  {
   "cell_type": "code",
   "execution_count": 193,
   "id": "428e0bae-791a-403e-b754-de0a01906a4c",
   "metadata": {},
   "outputs": [
    {
     "data": {
      "text/latex": [
       "$\\displaystyle 2 x + \\frac{2 x}{x^{2} + 2}$"
      ],
      "text/plain": [
       "2*x + 2*x/(x**2 + 2)"
      ]
     },
     "execution_count": 193,
     "metadata": {},
     "output_type": "execute_result"
    }
   ],
   "source": [
    "#Oppgave 2c\n",
    "sp.diff(x**2+sp.log(x**2+2))"
   ]
  },
  {
   "cell_type": "code",
   "execution_count": 194,
   "id": "01a7935e-9b38-4dd1-be5a-ee2e3c797f39",
   "metadata": {},
   "outputs": [
    {
     "data": {
      "text/latex": [
       "$\\displaystyle - \\frac{2 \\cdot 2.71828182845905^{- x} x}{\\left(x^{2} + 1\\right)^{2}} - \\frac{1.0 \\cdot 2.71828182845905^{- x}}{x^{2} + 1}$"
      ],
      "text/plain": [
       "-2*x/(2.71828182845905**x*(x**2 + 1)**2) - 1.0/(2.71828182845905**x*(x**2 + 1))"
      ]
     },
     "execution_count": 194,
     "metadata": {},
     "output_type": "execute_result"
    }
   ],
   "source": [
    "#Oppgave 2d\n",
    "sp.diff((math.e**-x)/(x**2+1))"
   ]
  }
 ],
 "metadata": {
  "kernelspec": {
   "display_name": "Python 3 (ipykernel)",
   "language": "python",
   "name": "python3"
  },
  "language_info": {
   "codemirror_mode": {
    "name": "ipython",
    "version": 3
   },
   "file_extension": ".py",
   "mimetype": "text/x-python",
   "name": "python",
   "nbconvert_exporter": "python",
   "pygments_lexer": "ipython3",
   "version": "3.9.13"
  }
 },
 "nbformat": 4,
 "nbformat_minor": 5
}
