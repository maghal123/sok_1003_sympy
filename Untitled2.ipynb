{
 "cells": [
  {
   "cell_type": "code",
   "execution_count": 1,
   "id": "623467ab-f08e-4b70-ac9c-c701fed200dd",
   "metadata": {},
   "outputs": [],
   "source": [
    "import sympy as sp\n",
    "from sympy.solvers import solve"
   ]
  },
  {
   "cell_type": "code",
   "execution_count": 2,
   "id": "1ab8bfe6-8d29-481c-8998-2011d4b9b74e",
   "metadata": {},
   "outputs": [
    {
     "data": {
      "text/latex": [
       "$\\displaystyle \\left(15 x^{2} + 30\\right) \\left(x^{3} + 6 x\\right)^{4}$"
      ],
      "text/plain": [
       "(15*x**2 + 30)*(x**3 + 6*x)**4"
      ]
     },
     "execution_count": 2,
     "metadata": {},
     "output_type": "execute_result"
    }
   ],
   "source": [
    "#1a)\n",
    "x, y  = sp.symbols(\"x y\")\n",
    "#definerer som symbol\n",
    "x = sp.symbols(\"x\")\n",
    "\n",
    "unknown = [x, y]\n",
    "sp.diff(((x**3+x*6)**5), x)"
   ]
  },
  {
   "cell_type": "code",
   "execution_count": 14,
   "id": "3cf4b4a5-0dd2-4174-8a47-1ed860ee66ff",
   "metadata": {},
   "outputs": [
    {
     "data": {
      "text/latex": [
       "$\\displaystyle \\frac{2 x}{\\sqrt{2 x^{2} + 5}}$"
      ],
      "text/plain": [
       "2*x/sqrt(2*x**2 + 5)"
      ]
     },
     "execution_count": 14,
     "metadata": {},
     "output_type": "execute_result"
    }
   ],
   "source": [
    "sp.diff(sp.sqrt(2*x**2 +5), x)"
   ]
  },
  {
   "cell_type": "code",
   "execution_count": 5,
   "id": "2bebf233-de2b-44b9-a3f3-5bcf52a98ef1",
   "metadata": {},
   "outputs": [
    {
     "data": {
      "text/latex": [
       "$\\displaystyle - \\frac{128 x^{5}}{\\left(x^{2} + 3\\right)^{5}} + \\frac{64 x^{3}}{\\left(x^{2} + 3\\right)^{4}}$"
      ],
      "text/plain": [
       "-128*x**5/(x**2 + 3)**5 + 64*x**3/(x**2 + 3)**4"
      ]
     },
     "execution_count": 5,
     "metadata": {},
     "output_type": "execute_result"
    }
   ],
   "source": [
    "sp.diff(((2*x/(x**2+3))**4), x)"
   ]
  },
  {
   "cell_type": "code",
   "execution_count": 6,
   "id": "0bd81dd6-2864-4872-ae51-020598d49025",
   "metadata": {},
   "outputs": [
    {
     "data": {
      "text/latex": [
       "$\\displaystyle 96 x^{3} \\left(16 x^{4} + 9\\right)^{2}$"
      ],
      "text/plain": [
       "96*x**3*(16*x**4 + 9)**2"
      ]
     },
     "execution_count": 6,
     "metadata": {},
     "output_type": "execute_result"
    }
   ],
   "source": [
    "sp.diff(((2*x)**4+9)**3/2, x)"
   ]
  },
  {
   "cell_type": "code",
   "execution_count": 7,
   "id": "3d468c8b-1ea3-435d-98f0-55ca8d547345",
   "metadata": {},
   "outputs": [
    {
     "data": {
      "text/latex": [
       "$\\displaystyle - \\frac{x}{\\left(x^{2} + 1\\right)^{\\frac{3}{2}}}$"
      ],
      "text/plain": [
       "-x/(x**2 + 1)**(3/2)"
      ]
     },
     "execution_count": 7,
     "metadata": {},
     "output_type": "execute_result"
    }
   ],
   "source": [
    "sp.diff((1)/sp.sqrt(1+x**2) ,x)"
   ]
  },
  {
   "cell_type": "code",
   "execution_count": 8,
   "id": "5ae32f6d-b0fc-49c5-9927-bf25b68ee6bc",
   "metadata": {},
   "outputs": [
    {
     "data": {
      "text/latex": [
       "$\\displaystyle x^{2} \\cdot \\left(6 x + 6\\right) \\left(x^{2} + 2 x\\right)^{2} + 2 x \\left(x^{2} + 2 x\\right)^{3}$"
      ],
      "text/plain": [
       "x**2*(6*x + 6)*(x**2 + 2*x)**2 + 2*x*(x**2 + 2*x)**3"
      ]
     },
     "execution_count": 8,
     "metadata": {},
     "output_type": "execute_result"
    }
   ],
   "source": [
    "sp.diff(x**2*(x**2+2*x)**3, x)"
   ]
  },
  {
   "cell_type": "code",
   "execution_count": 9,
   "id": "0fcc39d5-6781-482b-baf6-8cc4c1a0eeb1",
   "metadata": {},
   "outputs": [
    {
     "data": {
      "text/latex": [
       "$\\displaystyle \\frac{x^{2} \\left(x - 1\\right)}{\\sqrt{x^{2} - 2 x}} + 2 x \\sqrt{x^{2} - 2 x}$"
      ],
      "text/plain": [
       "x**2*(x - 1)/sqrt(x**2 - 2*x) + 2*x*sqrt(x**2 - 2*x)"
      ]
     },
     "execution_count": 9,
     "metadata": {},
     "output_type": "execute_result"
    }
   ],
   "source": [
    "sp.diff(x**2*sp.sqrt(x**2-2*x), x)"
   ]
  },
  {
   "cell_type": "code",
   "execution_count": 10,
   "id": "04e03046-e566-4f15-90cd-861ac0f024d5",
   "metadata": {},
   "outputs": [
    {
     "data": {
      "text/latex": [
       "$\\displaystyle \\frac{x^{2} \\left(- 6 x - 3\\right)}{\\left(x^{2} + x\\right)^{4}} + \\frac{2 x}{\\left(x^{2} + x\\right)^{3}}$"
      ],
      "text/plain": [
       "x**2*(-6*x - 3)/(x**2 + x)**4 + 2*x/(x**2 + x)**3"
      ]
     },
     "execution_count": 10,
     "metadata": {},
     "output_type": "execute_result"
    }
   ],
   "source": [
    "sp.diff(x**2/(x**2+x)**3, x)"
   ]
  },
  {
   "cell_type": "code",
   "execution_count": 11,
   "id": "a9e77d1a-b69c-4f14-b301-3f8d0a409ef5",
   "metadata": {},
   "outputs": [
    {
     "data": {
      "text/latex": [
       "$\\displaystyle 9 x^{2} \\left(x^{2} + 1\\right)^{2} \\left(x^{3} + 1\\right)^{2} + 4 x \\left(x^{2} + 1\\right) \\left(x^{3} + 1\\right)^{3}$"
      ],
      "text/plain": [
       "9*x**2*(x**2 + 1)**2*(x**3 + 1)**2 + 4*x*(x**2 + 1)*(x**3 + 1)**3"
      ]
     },
     "execution_count": 11,
     "metadata": {},
     "output_type": "execute_result"
    }
   ],
   "source": [
    "sp.diff((x**2+1)**2*(x**3+1)**3, x)"
   ]
  },
  {
   "cell_type": "code",
   "execution_count": 12,
   "id": "1311bf43-95b1-4c3d-9133-f9dff75ea8e3",
   "metadata": {},
   "outputs": [
    {
     "data": {
      "text/latex": [
       "$\\displaystyle \\frac{\\left(24 x + 8\\right) \\sqrt{\\left(3 x^{2} + 2 x\\right)^{4}}}{2 \\cdot \\left(3 x^{2} + 2 x\\right)}$"
      ],
      "text/plain": [
       "(24*x + 8)*sqrt((3*x**2 + 2*x)**4)/(2*(3*x**2 + 2*x))"
      ]
     },
     "execution_count": 12,
     "metadata": {},
     "output_type": "execute_result"
    }
   ],
   "source": [
    "sp.diff(sp.sqrt((3*x**2+2*x)**4), x)"
   ]
  },
  {
   "cell_type": "code",
   "execution_count": 13,
   "id": "8c0b6949-5e98-489b-aa4d-e626c1dc3549",
   "metadata": {},
   "outputs": [
    {
     "data": {
      "text/latex": [
       "$\\displaystyle 15 x^{2} \\left(x^{2} + 3\\right)^{4} \\left(x^{3} + 3\\right)^{4} + 8 x \\left(x^{2} + 3\\right)^{3} \\left(x^{3} + 3\\right)^{5}$"
      ],
      "text/plain": [
       "15*x**2*(x**2 + 3)**4*(x**3 + 3)**4 + 8*x*(x**2 + 3)**3*(x**3 + 3)**5"
      ]
     },
     "execution_count": 13,
     "metadata": {},
     "output_type": "execute_result"
    }
   ],
   "source": [
    "sp.diff((x**3+3)**5*(x**2+3)**4, x)"
   ]
  },
  {
   "cell_type": "code",
   "execution_count": 28,
   "id": "8c044622-25d8-4991-a58b-b9545b773592",
   "metadata": {},
   "outputs": [
    {
     "data": {
      "text/latex": [
       "$\\displaystyle \\frac{x^{3}}{\\sqrt{x^{2} + 1}} + 2 x \\sqrt{x^{2} + 1}$"
      ],
      "text/plain": [
       "x**3/sqrt(x**2 + 1) + 2*x*sqrt(x**2 + 1)"
      ]
     },
     "execution_count": 28,
     "metadata": {},
     "output_type": "execute_result"
    }
   ],
   "source": [
    "sp.diff(sp.sqrt(x**2+1)*x**2, x)"
   ]
  },
  {
   "cell_type": "code",
   "execution_count": 29,
   "id": "0c71fd28-21b0-4c52-b0e6-3196b6378932",
   "metadata": {},
   "outputs": [
    {
     "data": {
      "text/latex": [
       "$\\displaystyle \\frac{\\left(18 x + 6\\right) \\left(3 x^{2} + 2 x\\right)^{2}}{x^{2}} - \\frac{2 \\left(3 x^{2} + 2 x\\right)^{3}}{x^{3}}$"
      ],
      "text/plain": [
       "(18*x + 6)*(3*x**2 + 2*x)**2/x**2 - 2*(3*x**2 + 2*x)**3/x**3"
      ]
     },
     "execution_count": 29,
     "metadata": {},
     "output_type": "execute_result"
    }
   ],
   "source": [
    "sp.diff((2*x+3*x**2)**3/x**2, x)"
   ]
  },
  {
   "cell_type": "code",
   "execution_count": 30,
   "id": "9706281f-4272-4ad2-909c-376941e35df8",
   "metadata": {},
   "outputs": [
    {
     "data": {
      "text/latex": [
       "$\\displaystyle \\frac{2 \\cdot 3^{\\sqrt{x^{4} - 5}} x^{3} \\log{\\left(3 \\right)}}{\\sqrt{x^{4} - 5}}$"
      ],
      "text/plain": [
       "2*3**(sqrt(x**4 - 5))*x**3*log(3)/sqrt(x**4 - 5)"
      ]
     },
     "execution_count": 30,
     "metadata": {},
     "output_type": "execute_result"
    }
   ],
   "source": [
    "sp.diff(3**sp.sqrt(x**4-5), x)"
   ]
  },
  {
   "cell_type": "code",
   "execution_count": 31,
   "id": "53d5d965-5337-42a4-bf62-bebcaa5e70c5",
   "metadata": {},
   "outputs": [
    {
     "data": {
      "text/latex": [
       "$\\displaystyle - \\frac{2 x^{6}}{\\left(x^{4} - 1\\right)^{\\frac{3}{2}}} + \\frac{3 x^{2}}{\\sqrt{x^{4} - 1}}$"
      ],
      "text/plain": [
       "-2*x**6/(x**4 - 1)**(3/2) + 3*x**2/sqrt(x**4 - 1)"
      ]
     },
     "execution_count": 31,
     "metadata": {},
     "output_type": "execute_result"
    }
   ],
   "source": [
    "sp.diff(x**3/sp.sqrt(x**4-1), x)"
   ]
  },
  {
   "cell_type": "code",
   "execution_count": 15,
   "id": "a4378bcd-68b0-4f9a-a577-8a8b1df208b0",
   "metadata": {},
   "outputs": [
    {
     "data": {
      "text/latex": [
       "$\\displaystyle \\left(15 x^{2} + 30\\right) \\left(x^{3} + 6 x\\right)^{4}$"
      ],
      "text/plain": [
       "(15*x**2 + 30)*(x**3 + 6*x)**4"
      ]
     },
     "execution_count": 15,
     "metadata": {},
     "output_type": "execute_result"
    }
   ],
   "source": [
    "#Oppgave 21\n",
    "unknown = [x, y]\n",
    "sp.diff(((x**3+x*6)**5), x)"
   ]
  },
  {
   "cell_type": "code",
   "execution_count": null,
   "id": "10237839-7489-453e-902c-03e1830469c6",
   "metadata": {},
   "outputs": [],
   "source": []
  }
 ],
 "metadata": {
  "kernelspec": {
   "display_name": "Python 3 (ipykernel)",
   "language": "python",
   "name": "python3"
  },
  "language_info": {
   "codemirror_mode": {
    "name": "ipython",
    "version": 3
   },
   "file_extension": ".py",
   "mimetype": "text/x-python",
   "name": "python",
   "nbconvert_exporter": "python",
   "pygments_lexer": "ipython3",
   "version": "3.9.13"
  }
 },
 "nbformat": 4,
 "nbformat_minor": 5
}
